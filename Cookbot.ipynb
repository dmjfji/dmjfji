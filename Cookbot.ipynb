{
  "nbformat": 4,
  "nbformat_minor": 0,
  "metadata": {
    "colab": {
      "provenance": [],
      "authorship_tag": "ABX9TyN3NuJ2+g/u3ex8nuYEvzxz",
      "include_colab_link": true
    },
    "kernelspec": {
      "name": "python3",
      "display_name": "Python 3"
    },
    "language_info": {
      "name": "python"
    }
  },
  "cells": [
    {
      "cell_type": "markdown",
      "metadata": {
        "id": "view-in-github",
        "colab_type": "text"
      },
      "source": [
        "<a href=\"https://colab.research.google.com/github/dmjfji/dmjfji/blob/main/Cookbot.ipynb\" target=\"_parent\"><img src=\"https://colab.research.google.com/assets/colab-badge.svg\" alt=\"Open In Colab\"/></a>"
      ]
    },
    {
      "cell_type": "code",
      "execution_count": null,
      "metadata": {
        "id": "0fuLkN9h2PTn"
      },
      "outputs": [],
      "source": [
        "import time\n",
        "print('I am your ai chatbot.')\n",
        "time.sleep(2)\n",
        "ask_name=str(input('What is your name?: '))\n",
        "my_name=str(input('What do you want to call me?: '))\n",
        "print(\"Hello\",ask_name,\"I am\",my_name,)"
      ]
    }
  ]
}